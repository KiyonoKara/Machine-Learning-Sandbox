{
 "cells": [
  {
   "cell_type": "markdown",
   "source": [
    "# Ridge Regression Example\n",
    "\n",
    "With hyperparameters tuned."
   ],
   "metadata": {
    "collapsed": false
   },
   "id": "a47a849fed97078b"
  },
  {
   "cell_type": "code",
   "outputs": [
    {
     "data": {
      "text/plain": "        Date      Time  CO(GT)  PT08.S1(CO)  NMHC(GT)  C6H6(GT)  \\\n0  3/10/2004  18:00:00     2.6         1360       150      11.9   \n1  3/10/2004  19:00:00     2.0         1292       112       9.4   \n2  3/10/2004  20:00:00     2.2         1402        88       9.0   \n3  3/10/2004  21:00:00     2.2         1376        80       9.2   \n4  3/10/2004  22:00:00     1.6         1272        51       6.5   \n\n   PT08.S2(NMHC)  NOx(GT)  PT08.S3(NOx)  NO2(GT)  PT08.S4(NO2)  PT08.S5(O3)  \\\n0           1046      166          1056      113          1692         1268   \n1            955      103          1174       92          1559          972   \n2            939      131          1140      114          1555         1074   \n3            948      172          1092      122          1584         1203   \n4            836      131          1205      116          1490         1110   \n\n      T    RH      AH  \n0  13.6  48.9  0.7578  \n1  13.3  47.7  0.7255  \n2  11.9  54.0  0.7502  \n3  11.0  60.0  0.7867  \n4  11.2  59.6  0.7888  ",
      "text/html": "<div>\n<style scoped>\n    .dataframe tbody tr th:only-of-type {\n        vertical-align: middle;\n    }\n\n    .dataframe tbody tr th {\n        vertical-align: top;\n    }\n\n    .dataframe thead th {\n        text-align: right;\n    }\n</style>\n<table border=\"1\" class=\"dataframe\">\n  <thead>\n    <tr style=\"text-align: right;\">\n      <th></th>\n      <th>Date</th>\n      <th>Time</th>\n      <th>CO(GT)</th>\n      <th>PT08.S1(CO)</th>\n      <th>NMHC(GT)</th>\n      <th>C6H6(GT)</th>\n      <th>PT08.S2(NMHC)</th>\n      <th>NOx(GT)</th>\n      <th>PT08.S3(NOx)</th>\n      <th>NO2(GT)</th>\n      <th>PT08.S4(NO2)</th>\n      <th>PT08.S5(O3)</th>\n      <th>T</th>\n      <th>RH</th>\n      <th>AH</th>\n    </tr>\n  </thead>\n  <tbody>\n    <tr>\n      <th>0</th>\n      <td>3/10/2004</td>\n      <td>18:00:00</td>\n      <td>2.6</td>\n      <td>1360</td>\n      <td>150</td>\n      <td>11.9</td>\n      <td>1046</td>\n      <td>166</td>\n      <td>1056</td>\n      <td>113</td>\n      <td>1692</td>\n      <td>1268</td>\n      <td>13.6</td>\n      <td>48.9</td>\n      <td>0.7578</td>\n    </tr>\n    <tr>\n      <th>1</th>\n      <td>3/10/2004</td>\n      <td>19:00:00</td>\n      <td>2.0</td>\n      <td>1292</td>\n      <td>112</td>\n      <td>9.4</td>\n      <td>955</td>\n      <td>103</td>\n      <td>1174</td>\n      <td>92</td>\n      <td>1559</td>\n      <td>972</td>\n      <td>13.3</td>\n      <td>47.7</td>\n      <td>0.7255</td>\n    </tr>\n    <tr>\n      <th>2</th>\n      <td>3/10/2004</td>\n      <td>20:00:00</td>\n      <td>2.2</td>\n      <td>1402</td>\n      <td>88</td>\n      <td>9.0</td>\n      <td>939</td>\n      <td>131</td>\n      <td>1140</td>\n      <td>114</td>\n      <td>1555</td>\n      <td>1074</td>\n      <td>11.9</td>\n      <td>54.0</td>\n      <td>0.7502</td>\n    </tr>\n    <tr>\n      <th>3</th>\n      <td>3/10/2004</td>\n      <td>21:00:00</td>\n      <td>2.2</td>\n      <td>1376</td>\n      <td>80</td>\n      <td>9.2</td>\n      <td>948</td>\n      <td>172</td>\n      <td>1092</td>\n      <td>122</td>\n      <td>1584</td>\n      <td>1203</td>\n      <td>11.0</td>\n      <td>60.0</td>\n      <td>0.7867</td>\n    </tr>\n    <tr>\n      <th>4</th>\n      <td>3/10/2004</td>\n      <td>22:00:00</td>\n      <td>1.6</td>\n      <td>1272</td>\n      <td>51</td>\n      <td>6.5</td>\n      <td>836</td>\n      <td>131</td>\n      <td>1205</td>\n      <td>116</td>\n      <td>1490</td>\n      <td>1110</td>\n      <td>11.2</td>\n      <td>59.6</td>\n      <td>0.7888</td>\n    </tr>\n  </tbody>\n</table>\n</div>"
     },
     "execution_count": 28,
     "metadata": {},
     "output_type": "execute_result"
    }
   ],
   "source": [
    "from ucimlrepo import fetch_ucirepo\n",
    "\n",
    "air_quality = fetch_ucirepo(id=360) \n",
    "\n",
    "X = air_quality.data.features \n",
    "y = air_quality.data.targets\n",
    "X.head()"
   ],
   "metadata": {
    "collapsed": true,
    "ExecuteTime": {
     "end_time": "2024-03-18T15:54:00.729472Z",
     "start_time": "2024-03-18T15:53:59.422908Z"
    }
   },
   "id": "initial_id",
   "execution_count": 28
  },
  {
   "cell_type": "code",
   "outputs": [],
   "source": [
    "from sklearn.model_selection import train_test_split\n",
    "\n",
    "air_quality_features = air_quality.data.features.iloc[:, 2:]\n",
    "X = air_quality_features.iloc[:, 1:]\n",
    "# CO(GT) as target\n",
    "y = air_quality_features['CO(GT)']\n",
    "\n",
    "X_train, X_test, y_train, y_test = train_test_split(X, y, test_size=0.2, random_state=42)"
   ],
   "metadata": {
    "collapsed": false,
    "ExecuteTime": {
     "end_time": "2024-03-18T16:17:30.035350Z",
     "start_time": "2024-03-18T16:17:29.426954Z"
    }
   },
   "id": "782ebc6385b8393a",
   "execution_count": 31
  },
  {
   "cell_type": "code",
   "outputs": [],
   "source": [],
   "metadata": {
    "collapsed": false
   },
   "id": "7e099ead4084c449"
  }
 ],
 "metadata": {
  "kernelspec": {
   "display_name": "Python 3",
   "language": "python",
   "name": "python3"
  },
  "language_info": {
   "codemirror_mode": {
    "name": "ipython",
    "version": 2
   },
   "file_extension": ".py",
   "mimetype": "text/x-python",
   "name": "python",
   "nbconvert_exporter": "python",
   "pygments_lexer": "ipython2",
   "version": "2.7.6"
  }
 },
 "nbformat": 4,
 "nbformat_minor": 5
}
